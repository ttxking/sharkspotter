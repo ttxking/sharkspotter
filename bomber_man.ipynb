{
 "cells": [
  {
   "cell_type": "code",
   "execution_count": 6,
   "id": "be30a8e0",
   "metadata": {},
   "outputs": [
    {
     "name": "stderr",
     "output_type": "stream",
     "text": [
      "2023-04-15 07:28:12.997275: I tensorflow/core/platform/cpu_feature_guard.cc:182] This TensorFlow binary is optimized to use available CPU instructions in performance-critical operations.\n",
      "To enable the following instructions: AVX2 FMA, in other operations, rebuild TensorFlow with the appropriate compiler flags.\n",
      "OMP: Info #276: omp_set_nested routine deprecated, please use omp_set_max_active_levels instead.\n"
     ]
    }
   ],
   "source": [
    "import numpy as np\n",
    "import pandas as pd\n",
    "import matplotlib.pyplot as plt\n",
    "import seaborn as sns\n",
    "import random\n",
    "import os\n",
    "import re\n",
    "import warnings\n",
    "import joblib\n",
    "import tensorflow as tf\n",
    "from tensorflow.keras.preprocessing import image\n",
    "from tensorflow.keras.applications import DenseNet201\n",
    "from tensorflow.keras.models import Sequential, Model, load_model\n",
    "from tensorflow.keras.layers import Dense, GlobalAveragePooling2D, Dropout\n",
    "from tensorflow.keras.optimizers import Adam, SGD\n",
    "from tensorflow.keras.applications.densenet import preprocess_input\n",
    "from sklearn.model_selection import train_test_split, GridSearchCV\n",
    "from sklearn.preprocessing import LabelEncoder\n",
    "from sklearn.metrics import accuracy_score, classification_report, log_loss, confusion_matrix\n",
    "from sklearn.svm import SVC\n",
    "from sklearn.linear_model import SGDClassifier\n",
    "from keras.utils import to_categorical\n",
    "from keras.models import Model\n",
    "from keras import backend as K\n",
    "from PIL import Image\n",
    "import pickle\n",
    "from rembg import remove\n",
    "\n",
    "# Test shit\n",
    "from sklearn.discriminant_analysis import LinearDiscriminantAnalysis\n",
    "from keras.applications.mobilenet import MobileNet\n",
    "from imblearn.over_sampling import SMOTE\n",
    "from sklearn.preprocessing import StandardScaler\n",
    "from sklearn.naive_bayes import GaussianNB\n",
    "from sklearn.ensemble import RandomForestClassifier\n",
    "from sklearn.neighbors import KNeighborsClassifier"
   ]
  },
  {
   "cell_type": "code",
   "execution_count": 7,
   "id": "67847bb2",
   "metadata": {},
   "outputs": [],
   "source": [
    "warnings.filterwarnings(\"ignore\")"
   ]
  },
  {
   "cell_type": "code",
   "execution_count": 8,
   "id": "ff5909b8",
   "metadata": {},
   "outputs": [],
   "source": [
    "def set_seed(seed):\n",
    "  os.environ['TF_DETERMINISTIC_OPS'] = '1'\n",
    "  random.seed(seed)\n",
    "  np.random.seed(seed)\n",
    "  tf.random.set_seed(seed)"
   ]
  },
  {
   "cell_type": "code",
   "execution_count": 9,
   "id": "4b589afb",
   "metadata": {},
   "outputs": [],
   "source": [
    "set_seed(42)"
   ]
  },
  {
   "cell_type": "code",
   "execution_count": 10,
   "id": "d08f7b74",
   "metadata": {},
   "outputs": [],
   "source": [
    "image_dir = '../dataset/splited/shark_44/train'\n",
    "test_dir = '../dataset/splited/shark_44/test'"
   ]
  },
  {
   "cell_type": "code",
   "execution_count": null,
   "id": "f7813b34",
   "metadata": {},
   "outputs": [],
   "source": [
    "def load_img(image_dir):\n",
    "    list_images = []\n",
    "    for label in os.listdir(image_dir):\n",
    "        if label != '.DS_Store':\n",
    "            for file in os.listdir(os.path.join(image_dir,label)):\n",
    "                if re.search('jpg|JPG', file):\n",
    "                    list_images.append(f\"{image_dir}/{label}/{file}\")\n",
    "    return list_images"
   ]
  },
  {
   "cell_type": "code",
   "execution_count": 11,
   "id": "5e37e204",
   "metadata": {
    "scrolled": true
   },
   "outputs": [],
   "source": [
    "def extract_feature(list_images):\n",
    "    features = []\n",
    "    labels = []\n",
    "\n",
    "    nb_features = 1920  \n",
    "    features = np.empty((len(list_images), nb_features))\n",
    "\n",
    "    for ind, image_path in enumerate(list_images):\n",
    "        print('Processing %s...' % (image_path))\n",
    "        img = image.load_img(image_path, target_size=(299, 299))\n",
    "        x = image.img_to_array(img)\n",
    "        x = np.expand_dims(x, axis=0)\n",
    "        x = preprocess_input(x)\n",
    "        features[ind,:] = np.squeeze(extractor_model.predict(x))\n",
    "        labels.append(image_path.split('/')[-2])\n",
    "    \n",
    "    return features, labels"
   ]
  },
  {
   "cell_type": "markdown",
   "id": "77a1ef34",
   "metadata": {},
   "source": [
    "# DenseNet as feature extractor"
   ]
  },
  {
   "cell_type": "code",
   "execution_count": 12,
   "id": "5a54e7f8",
   "metadata": {},
   "outputs": [],
   "source": [
    "base_model = DenseNet201(weights='imagenet', include_top=False)\n",
    "x = base_model.output\n",
    "x = GlobalAveragePooling2D()(x)\n",
    "extractor_model = Model(inputs=base_model.input, outputs=x)"
   ]
  },
  {
   "cell_type": "code",
   "execution_count": null,
   "id": "83f2cc07",
   "metadata": {},
   "outputs": [],
   "source": [
    "train_images = load_img(image_dir)\n",
    "features, labels = extract_feature(train_images)"
   ]
  },
  {
   "cell_type": "code",
   "execution_count": 17,
   "id": "bc2e5e03",
   "metadata": {},
   "outputs": [],
   "source": [
    "X_train, X_val, y_train, y_val = train_test_split(features, labels_numeric, test_size=0.1, random_state=42)\n",
    "smote = SMOTE(random_state=42, k_neighbors = 3)\n",
    "X_train, y_train = smote.fit_resample(X_train, y_train)"
   ]
  },
  {
   "cell_type": "code",
   "execution_count": null,
   "id": "c487847b",
   "metadata": {},
   "outputs": [],
   "source": [
    "test_img = load_img(test_dir)\n",
    "X_test, y_test = extract_feature(test_img)"
   ]
  },
  {
   "cell_type": "code",
   "execution_count": null,
   "id": "586ab327",
   "metadata": {},
   "outputs": [],
   "source": [
    "pickle.dump(features, open('features', 'wb'))\n",
    "pickle.dump(labels, open('labels', 'wb'))"
   ]
  },
  {
   "cell_type": "code",
   "execution_count": null,
   "id": "e7e85ade",
   "metadata": {},
   "outputs": [],
   "source": [
    "pickle.dump(features, open('test_features', 'wb'))\n",
    "pickle.dump(labels, open('test_labels', 'wb'))"
   ]
  },
  {
   "cell_type": "code",
   "execution_count": 13,
   "id": "d9a67232",
   "metadata": {},
   "outputs": [],
   "source": [
    "with open('features', 'rb') as f:\n",
    "    features = pickle.load(f)\n",
    "\n",
    "# Load labels\n",
    "with open('labels', 'rb') as f:\n",
    "    labels = pickle.load(f)"
   ]
  },
  {
   "cell_type": "code",
   "execution_count": 14,
   "id": "0077a204",
   "metadata": {},
   "outputs": [],
   "source": [
    "with open('test_features', 'rb') as f:\n",
    "    X_test = pickle.load(f)\n",
    "\n",
    "# Load labels\n",
    "with open('test_labels', 'rb') as f:\n",
    "    y_test = pickle.load(f)"
   ]
  },
  {
   "cell_type": "code",
   "execution_count": 15,
   "id": "957e7f8d",
   "metadata": {},
   "outputs": [],
   "source": [
    "# Number of labels - 18\n",
    "class_labels = os.listdir(image_dir)\n",
    "if '.DS_Store' in class_labels:\n",
    "    class_labels.remove('.DS_Store')\n",
    "encoder_labels = LabelEncoder()\n",
    "encoder_labels.fit(class_labels)\n",
    "labels_numeric = encoder_labels.transform(labels)"
   ]
  },
  {
   "cell_type": "code",
   "execution_count": 16,
   "id": "cd2605c4",
   "metadata": {},
   "outputs": [],
   "source": [
    "y_test_label = encoder_labels.transform(y_test)"
   ]
  },
  {
   "cell_type": "code",
   "execution_count": null,
   "id": "1103855a",
   "metadata": {},
   "outputs": [],
   "source": [
    "sorted(class_labels)"
   ]
  },
  {
   "cell_type": "code",
   "execution_count": null,
   "id": "27d41bef",
   "metadata": {},
   "outputs": [],
   "source": []
  },
  {
   "cell_type": "markdown",
   "id": "d482b5ca",
   "metadata": {},
   "source": [
    "# ANN"
   ]
  },
  {
   "cell_type": "code",
   "execution_count": null,
   "id": "eb84c5cd",
   "metadata": {},
   "outputs": [],
   "source": [
    "ann_classifier = Sequential()\n",
    "ann_classifier.add(Dense(1024, activation='relu', input_shape=(1920,)))\n",
    "ann_classifier.add(Dropout(0.2))\n",
    "ann_classifier.add(Dense(512, activation='relu'))\n",
    "ann_classifier.add(Dropout(0.2))\n",
    "ann_classifier.add(Dense(256, activation='relu'))\n",
    "ann_classifier.add(Dropout(0.2))\n",
    "ann_classifier.add(Dense(128, activation='relu'))\n",
    "ann_classifier.add(Dense(18, activation='softmax'))\n",
    "\n",
    "ann_classifier.compile(optimizer='adam', loss='categorical_crossentropy', metrics=['accuracy'])\n",
    "history = ann_classifier.fit(X_train, to_categorical(y_train), epochs=20, \n",
    "                             batch_size=32,\n",
    "                             validation_data=(X_val, to_categorical(y_val)))\n",
    "\n",
    "test_loss, test_acc = ann_classifier.evaluate(X_test, to_categorical(y_test_label, num_classes=18))\n",
    "print('Test loss:', test_loss)\n",
    "print('Test accuracy:', test_acc)"
   ]
  },
  {
   "cell_type": "code",
   "execution_count": null,
   "id": "c5ad6bc9",
   "metadata": {},
   "outputs": [],
   "source": [
    "ann_classifier.save('../model/ann_model.h5')"
   ]
  },
  {
   "cell_type": "markdown",
   "id": "868a0d0c",
   "metadata": {},
   "source": [
    "# CNN"
   ]
  },
  {
   "cell_type": "code",
   "execution_count": 29,
   "id": "a2c18129",
   "metadata": {},
   "outputs": [
    {
     "name": "stdout",
     "output_type": "stream",
     "text": [
      "Epoch 1/10\n"
     ]
    },
    {
     "name": "stderr",
     "output_type": "stream",
     "text": [
      "2023-04-15 15:57:23.171162: I tensorflow/core/common_runtime/executor.cc:1197] [/device:CPU:0] (DEBUG INFO) Executor start aborting (this does not indicate an error and you can ignore this message): INVALID_ARGUMENT: You must feed a value for placeholder tensor 'Placeholder/_11' with dtype float and shape [2358,18]\n",
      "\t [[{{node Placeholder/_11}}]]\n",
      "2023-04-15 15:57:23.171494: I tensorflow/core/common_runtime/executor.cc:1197] [/device:CPU:0] (DEBUG INFO) Executor start aborting (this does not indicate an error and you can ignore this message): INVALID_ARGUMENT: You must feed a value for placeholder tensor 'Placeholder/_11' with dtype float and shape [2358,18]\n",
      "\t [[{{node Placeholder/_11}}]]\n"
     ]
    },
    {
     "name": "stdout",
     "output_type": "stream",
     "text": [
      "74/74 [==============================] - ETA: 0s - loss: 1.0351 - accuracy: 0.7286"
     ]
    },
    {
     "name": "stderr",
     "output_type": "stream",
     "text": [
      "2023-04-15 15:57:32.113301: I tensorflow/core/common_runtime/executor.cc:1197] [/device:CPU:0] (DEBUG INFO) Executor start aborting (this does not indicate an error and you can ignore this message): INVALID_ARGUMENT: You must feed a value for placeholder tensor 'Placeholder/_11' with dtype float and shape [72,18]\n",
      "\t [[{{node Placeholder/_11}}]]\n",
      "2023-04-15 15:57:32.113586: I tensorflow/core/common_runtime/executor.cc:1197] [/device:CPU:0] (DEBUG INFO) Executor start aborting (this does not indicate an error and you can ignore this message): INVALID_ARGUMENT: You must feed a value for placeholder tensor 'Placeholder/_11' with dtype float and shape [72,18]\n",
      "\t [[{{node Placeholder/_11}}]]\n"
     ]
    },
    {
     "name": "stdout",
     "output_type": "stream",
     "text": [
      "74/74 [==============================] - 9s 109ms/step - loss: 1.0351 - accuracy: 0.7286 - val_loss: 0.8503 - val_accuracy: 0.7917\n",
      "Epoch 2/10\n",
      "74/74 [==============================] - 8s 107ms/step - loss: 0.1465 - accuracy: 0.9601 - val_loss: 0.7947 - val_accuracy: 0.7778\n",
      "Epoch 3/10\n",
      "74/74 [==============================] - 8s 106ms/step - loss: 0.0673 - accuracy: 0.9801 - val_loss: 0.7969 - val_accuracy: 0.8333\n",
      "Epoch 4/10\n",
      "74/74 [==============================] - 7s 97ms/step - loss: 0.0359 - accuracy: 0.9907 - val_loss: 0.6638 - val_accuracy: 0.8750\n",
      "Epoch 5/10\n",
      "74/74 [==============================] - 8s 103ms/step - loss: 0.0065 - accuracy: 0.9983 - val_loss: 0.9424 - val_accuracy: 0.8472\n",
      "Epoch 6/10\n",
      "74/74 [==============================] - 8s 111ms/step - loss: 0.0022 - accuracy: 1.0000 - val_loss: 0.8347 - val_accuracy: 0.8611\n",
      "Epoch 7/10\n",
      "74/74 [==============================] - 9s 117ms/step - loss: 7.6293e-04 - accuracy: 1.0000 - val_loss: 0.8387 - val_accuracy: 0.8611\n",
      "Epoch 8/10\n",
      "74/74 [==============================] - 8s 105ms/step - loss: 3.2276e-04 - accuracy: 1.0000 - val_loss: 0.8563 - val_accuracy: 0.8611\n",
      "Epoch 9/10\n",
      "74/74 [==============================] - 7s 101ms/step - loss: 2.1989e-04 - accuracy: 1.0000 - val_loss: 0.8879 - val_accuracy: 0.8611\n",
      "Epoch 10/10\n",
      "74/74 [==============================] - 9s 118ms/step - loss: 1.7255e-04 - accuracy: 1.0000 - val_loss: 0.9025 - val_accuracy: 0.8611\n",
      " 5/23 [=====>........................] - ETA: 0s - loss: 0.1124 - accuracy: 0.9812"
     ]
    },
    {
     "name": "stderr",
     "output_type": "stream",
     "text": [
      "2023-04-15 15:58:43.858656: I tensorflow/core/common_runtime/executor.cc:1197] [/device:CPU:0] (DEBUG INFO) Executor start aborting (this does not indicate an error and you can ignore this message): INVALID_ARGUMENT: You must feed a value for placeholder tensor 'Placeholder/_11' with dtype float and shape [717,18]\n",
      "\t [[{{node Placeholder/_11}}]]\n",
      "2023-04-15 15:58:43.859091: I tensorflow/core/common_runtime/executor.cc:1197] [/device:CPU:0] (DEBUG INFO) Executor start aborting (this does not indicate an error and you can ignore this message): INVALID_ARGUMENT: You must feed a value for placeholder tensor 'Placeholder/_11' with dtype float and shape [717,18]\n",
      "\t [[{{node Placeholder/_11}}]]\n"
     ]
    },
    {
     "name": "stdout",
     "output_type": "stream",
     "text": [
      "23/23 [==============================] - 1s 24ms/step - loss: 0.0909 - accuracy: 0.9861\n",
      "Test loss: 0.0909399539232254\n",
      "Test accuracy: 0.9860529899597168\n"
     ]
    }
   ],
   "source": [
    "from keras.models import Sequential\n",
    "from keras.layers import Conv1D, MaxPooling1D, Flatten, Dense, Reshape\n",
    "\n",
    "cnn_classifier = Sequential()\n",
    "cnn_classifier.add(Conv1D(64, 3, activation='relu', input_shape=(1920, 1)))\n",
    "cnn_classifier.add(MaxPooling1D(2))\n",
    "cnn_classifier.add(Conv1D(32, 3, activation='relu'))\n",
    "cnn_classifier.add(MaxPooling1D(2))\n",
    "cnn_classifier.add(Flatten())\n",
    "cnn_classifier.add(Dense(256, activation='relu'))\n",
    "cnn_classifier.add(Dense(18, activation='softmax'))\n",
    "\n",
    "cnn_classifier.compile(optimizer='adam', loss='categorical_crossentropy', metrics=['accuracy'])\n",
    "history = cnn_classifier.fit(X_train, to_categorical(y_train), epochs=10, \n",
    "                        batch_size=32,\n",
    "                        validation_data=(X_val, to_categorical(y_val)))\n",
    "\n",
    "y_test_one_hot = to_categorical(y_test_label, num_classes=18)\n",
    "\n",
    "test_loss, test_acc = cnn_classifier.evaluate(X_test, y_test_one_hot)\n",
    "print('Test loss:', test_loss)\n",
    "print('Test accuracy:', test_acc)"
   ]
  },
  {
   "cell_type": "code",
   "execution_count": null,
   "id": "5e40d734",
   "metadata": {},
   "outputs": [],
   "source": [
    "cnn_classifier.save('../model/cnn_model.h5')"
   ]
  },
  {
   "cell_type": "code",
   "execution_count": 40,
   "id": "2a395ea9",
   "metadata": {},
   "outputs": [
    {
     "data": {
      "text/plain": [
       "0.9657760858535767"
      ]
     },
     "execution_count": 40,
     "metadata": {},
     "output_type": "execute_result"
    }
   ],
   "source": [
    "sum(history.history['accuracy'])/len(history.history['accuracy'])"
   ]
  },
  {
   "cell_type": "code",
   "execution_count": 41,
   "id": "7af98fa0",
   "metadata": {},
   "outputs": [
    {
     "data": {
      "text/plain": [
       "0.8430555522441864"
      ]
     },
     "execution_count": 41,
     "metadata": {},
     "output_type": "execute_result"
    }
   ],
   "source": [
    "sum(history.history['val_accuracy'])/len(history.history['val_accuracy'])"
   ]
  },
  {
   "cell_type": "markdown",
   "id": "67d7ef78",
   "metadata": {},
   "source": [
    "# RNN"
   ]
  },
  {
   "cell_type": "code",
   "execution_count": null,
   "id": "34221974",
   "metadata": {
    "scrolled": true
   },
   "outputs": [],
   "source": [
    "from keras.models import Sequential\n",
    "from keras.layers import LSTM, Dense, Reshape\n",
    "\n",
    "rnn_classifier = Sequential()\n",
    "rnn_classifier.add(Reshape((1920, 1), input_shape=(1920,)))\n",
    "rnn_classifier.add(LSTM(64, return_sequences=True))\n",
    "rnn_classifier.add(LSTM(32))\n",
    "rnn_classifier.add(Dense(256, activation='relu'))\n",
    "rnn_classifier.add(Dense(18, activation='softmax'))\n",
    "\n",
    "rnn_classifier.compile(optimizer='adam', loss='categorical_crossentropy', metrics=['accuracy'])\n",
    "history = rnn_classifier.fit(X_train, to_categorical(y_train), epochs=10, \n",
    "                        batch_size=32,\n",
    "                        validation_data=(X_val, to_categorical(y_val)))\n",
    "\n",
    "y_test_one_hot = to_categorical(y_test_label, num_classes=18)\n",
    "\n",
    "test_loss, test_acc = rnn_classifier.evaluate(X_test, y_test_one_hot)\n",
    "print('Test loss:', test_loss)\n",
    "print('Test accuracy:', test_acc)\n"
   ]
  },
  {
   "cell_type": "markdown",
   "id": "8e83a9d2",
   "metadata": {},
   "source": [
    "# KNN"
   ]
  },
  {
   "cell_type": "code",
   "execution_count": 30,
   "id": "f4f305fe",
   "metadata": {},
   "outputs": [
    {
     "name": "stdout",
     "output_type": "stream",
     "text": [
      "Best n_neighbors value: 1\n",
      "Accuracy score: 0.5580952380952381\n",
      "Accuracy on training data: 1.0\n",
      "Accuracy on validation data: 0.8611111111111112\n",
      "Accuracy on testing data: 0.9860529986052998\n"
     ]
    },
    {
     "data": {
      "text/plain": [
       "['../model/knn_model.pkl']"
      ]
     },
     "execution_count": 30,
     "metadata": {},
     "output_type": "execute_result"
    }
   ],
   "source": [
    "knn_clf = KNeighborsClassifier()\n",
    "\n",
    "param_grid = {'n_neighbors': [1, 3, 5, 7, 9]}\n",
    "\n",
    "knn = KNeighborsClassifier()\n",
    "\n",
    "grid_search = GridSearchCV(estimator=knn, param_grid=param_grid, cv=5)\n",
    "grid_search.fit(X_val, y_val)\n",
    "\n",
    "best_n_neighbors = grid_search.best_params_['n_neighbors']\n",
    "\n",
    "print(\"Best n_neighbors value:\", best_n_neighbors)\n",
    "print(\"Accuracy score:\", grid_search.best_score_)\n",
    "\n",
    "knn_clf.set_params(n_neighbors=best_n_neighbors)\n",
    "knn_clf.fit(X_train, y_train)\n",
    "\n",
    "train_accuracy = knn_clf.score(X_train, y_train)\n",
    "val_accuracy = knn_clf.score(X_val, y_val)\n",
    "y_test_num = encoder_labels.transform(y_test)\n",
    "test_accuracy = knn_clf.score(X_test, y_test_label)\n",
    "\n",
    "print(\"Accuracy on training data:\", train_accuracy)\n",
    "print(\"Accuracy on validation data:\", val_accuracy)\n",
    "print(\"Accuracy on testing data:\", test_accuracy)\n",
    "\n",
    "joblib.dump(knn_clf, '../model/knn_model.pkl')"
   ]
  },
  {
   "cell_type": "code",
   "execution_count": null,
   "id": "682b7b6e",
   "metadata": {},
   "outputs": [],
   "source": [
    "joblib.dump(knn_clf, '../model/knn_model.pkl')"
   ]
  },
  {
   "cell_type": "markdown",
   "id": "a1897ddb",
   "metadata": {},
   "source": [
    "# GaussainNB"
   ]
  },
  {
   "cell_type": "code",
   "execution_count": null,
   "id": "451f50f4",
   "metadata": {},
   "outputs": [],
   "source": [
    "# create a Gaussian Naive Bayes classifier\n",
    "clf = GaussianNB()\n",
    "\n",
    "# fit the classifier to the training data\n",
    "clf.fit(X_train, y_train)\n",
    "\n",
    "# make predictions on the training, validation, and test sets\n",
    "train_preds = clf.predict(X_train)\n",
    "val_preds = clf.predict(X_val)\n",
    "test_preds = clf.predict(X_test)\n",
    "\n",
    "test_preds_label = encoder_labels.inverse_transform(test_preds)\n",
    "\n",
    "\n",
    "# calculate accuracy scores for the predictions\n",
    "train_accuracy = accuracy_score(y_train, train_preds)\n",
    "val_accuracy = accuracy_score(y_val, val_preds)\n",
    "test_accuracy = accuracy_score(y_test, test_preds_label)\n",
    "\n",
    "\n",
    "print(\"Accuracy on training data:\", train_accuracy)\n",
    "print(\"Accuracy on validation data:\", val_accuracy)\n",
    "print(\"Accuracy on testing data:\", test_accuracy)"
   ]
  },
  {
   "cell_type": "markdown",
   "id": "3da37e2c",
   "metadata": {},
   "source": [
    "# RandomForest"
   ]
  },
  {
   "cell_type": "code",
   "execution_count": null,
   "id": "7ffd5c49",
   "metadata": {},
   "outputs": [],
   "source": [
    "from sklearn.ensemble import RandomForestClassifier\n",
    "from sklearn.model_selection import GridSearchCV\n",
    "from sklearn.metrics import accuracy_score\n",
    "\n",
    "# define the model\n",
    "clf = RandomForestClassifier()\n",
    "\n",
    "# define the parameter grid to search over\n",
    "param_grid = {'n_estimators': [100, 200, 300, 400],\n",
    "              'max_depth': [None, 5, 10, 20],\n",
    "              'min_samples_split': [2, 5, 10],\n",
    "              'min_samples_leaf': [1, 2, 4]}\n",
    "\n",
    "# perform grid search to find best hyperparameters\n",
    "grid_search = GridSearchCV(estimator=clf, param_grid=param_grid, cv=5)\n",
    "grid_search.fit(X_val, y_val)\n",
    "\n",
    "best_n_estimators = grid_search.best_params_['n_estimators']\n",
    "best_max_depth = grid_search.best_params_['max_depth']\n",
    "best_min_samples_split = grid_search.best_params_['min_samples_split']\n",
    "best_min_samples_leaf = grid_search.best_params_['min_samples_leaf']\n",
    "\n",
    "print(\"Best n_estimators value:\", best_n_estimators)\n",
    "print(\"Best max_depth value:\", best_max_depth)\n",
    "print(\"Best min_samples_split value:\", best_min_samples_split)\n",
    "print(\"Best min_samples_leaf value:\", best_min_samples_leaf)\n",
    "print(\"Accuracy score:\", grid_search.best_score_)\n",
    "\n",
    "# train the model on the whole training set using the best hyperparameters\n",
    "clf.set_params(n_estimators=best_n_estimators)\n",
    "clf.set_params(max_depth=best_max_depth)\n",
    "clf.set_params(min_samples_split=best_min_samples_split)\n",
    "clf.set_params(min_samples_leaf=best_min_samples_leaf)\n",
    "clf.fit(X_train, y_train)\n",
    "\n",
    "# evaluate the performance of the model on the train, validation, and test sets\n",
    "train_accuracy = accuracy_score(y_train, clf.predict(X_train))\n",
    "val_accuracy = accuracy_score(y_val, clf.predict(X_val))\n",
    "test_accuracy = accuracy_score(y_test, encoder_labels.inverse_transform(clf.predict(X_test)))\n",
    "\n",
    "print(\"Accuracy on training data:\", train_accuracy)\n",
    "print(\"Accuracy on validation data:\", val_accuracy)\n",
    "print(\"Accuracy on testing data:\", test_accuracy)\n"
   ]
  },
  {
   "cell_type": "code",
   "execution_count": null,
   "id": "592aad40",
   "metadata": {},
   "outputs": [],
   "source": [
    "joblib.dump(clf, '../model/rf_model.pkl')"
   ]
  },
  {
   "cell_type": "markdown",
   "id": "817c0ea2",
   "metadata": {},
   "source": [
    "# SVC"
   ]
  },
  {
   "cell_type": "code",
   "execution_count": 31,
   "id": "c40aacb7",
   "metadata": {},
   "outputs": [],
   "source": [
    "clf = SVC(kernel='rbf', probability=True)"
   ]
  },
  {
   "cell_type": "code",
   "execution_count": 32,
   "id": "ecf732ed",
   "metadata": {},
   "outputs": [
    {
     "name": "stdout",
     "output_type": "stream",
     "text": [
      "Best gamma value: 0.001\n",
      "Best C value: 10\n",
      "Accuracy score: 0.5161904761904761\n"
     ]
    }
   ],
   "source": [
    "param_grid = {'gamma': [0.001, 0.01, 0.1, 1, 10],\n",
    "              'C': [0.001, 0.01, 0.1, 1, 10]}\n",
    "\n",
    "svc = SVC(kernel='rbf')\n",
    "\n",
    "# perform grid search to find best gamma and C values\n",
    "grid_search = GridSearchCV(estimator=svc, param_grid=param_grid, cv=5)\n",
    "grid_search.fit(X_val, y_val)\n",
    "\n",
    "best_gamma = grid_search.best_params_['gamma']\n",
    "best_C = grid_search.best_params_['C']\n",
    "\n",
    "print(\"Best gamma value:\", grid_search.best_params_['gamma'])\n",
    "print(\"Best C value:\", grid_search.best_params_['C'])\n",
    "print(\"Accuracy score:\", grid_search.best_score_)"
   ]
  },
  {
   "cell_type": "code",
   "execution_count": 33,
   "id": "8ddeaa76",
   "metadata": {},
   "outputs": [
    {
     "name": "stdout",
     "output_type": "stream",
     "text": [
      "Accuracy on training data: 1.0\n",
      "Accuracy on validation data: 0.8611111111111112\n",
      "Accuracy on testing data: 0.9860529986052998\n"
     ]
    }
   ],
   "source": [
    "clf.set_params(C=best_C)\n",
    "clf.set_params(gamma=best_gamma)\n",
    "clf.fit(X_train, y_train)\n",
    "\n",
    "train_accuracy = clf.score(X_train, y_train)\n",
    "val_accuracy = clf.score(X_val, y_val)\n",
    "y_test_num = encoder_labels.transform(y_test)\n",
    "test_accuracy = clf.score(X_test, y_test_label)\n",
    "\n",
    "print(\"Accuracy on training data:\", train_accuracy)\n",
    "print(\"Accuracy on validation data:\", val_accuracy)\n",
    "print(\"Accuracy on testing data:\", test_accuracy)"
   ]
  },
  {
   "cell_type": "code",
   "execution_count": 34,
   "id": "465ec406",
   "metadata": {},
   "outputs": [
    {
     "name": "stdout",
     "output_type": "stream",
     "text": [
      "              precision    recall  f1-score   support\n",
      "\n",
      "           0       1.00      1.00      1.00        29\n",
      "           1       1.00      1.00      1.00        27\n",
      "           2       1.00      0.93      0.97        30\n",
      "           3       1.00      1.00      1.00         7\n",
      "           4       1.00      0.95      0.97        19\n",
      "           5       1.00      1.00      1.00         4\n",
      "           6       1.00      1.00      1.00        48\n",
      "           7       0.93      0.96      0.94        26\n",
      "           8       1.00      1.00      1.00        48\n",
      "           9       0.95      1.00      0.97       109\n",
      "          10       0.97      1.00      0.99        35\n",
      "          11       1.00      1.00      1.00        27\n",
      "          12       1.00      0.97      0.98        32\n",
      "          13       0.99      0.98      0.99       147\n",
      "          14       1.00      0.96      0.98        25\n",
      "          15       1.00      1.00      1.00        41\n",
      "          16       1.00      0.97      0.98        33\n",
      "          17       1.00      1.00      1.00        30\n",
      "\n",
      "    accuracy                           0.99       717\n",
      "   macro avg       0.99      0.98      0.99       717\n",
      "weighted avg       0.99      0.99      0.99       717\n",
      "\n"
     ]
    }
   ],
   "source": [
    "y_pred = clf.predict(X_test)\n",
    "print(classification_report(y_test_label, y_pred))"
   ]
  },
  {
   "cell_type": "code",
   "execution_count": null,
   "id": "15bb2be3",
   "metadata": {},
   "outputs": [],
   "source": [
    "joblib.dump(clf, '../model/svc_model.pkl')"
   ]
  },
  {
   "cell_type": "markdown",
   "id": "b61bb895",
   "metadata": {},
   "source": [
    "# SGDClassifier"
   ]
  },
  {
   "cell_type": "code",
   "execution_count": null,
   "id": "7434034d",
   "metadata": {},
   "outputs": [],
   "source": [
    "clf = SGDClassifier(loss='log_loss', max_iter=1000, tol=1e-3)"
   ]
  },
  {
   "cell_type": "code",
   "execution_count": null,
   "id": "0e93636a",
   "metadata": {},
   "outputs": [],
   "source": [
    "param_grid = {'alpha': [0.0001, 0.001, 0.01, 0.1, 1, 10],\n",
    "              'penalty': ['l2', 'l1', 'elasticnet'],\n",
    "              'l1_ratio': [0.15, 0.3, 0.5, 0.7, 0.85]}\n",
    "\n",
    "sgd = SGDClassifier(loss='log_loss')\n",
    "\n",
    "# perform grid search to find best alpha, penalty, and l1_ratio values\n",
    "grid_search = GridSearchCV(estimator=sgd, param_grid=param_grid, cv=5)\n",
    "grid_search.fit(X_val, y_val)\n",
    "\n",
    "best_alpha = grid_search.best_params_['alpha']\n",
    "best_penalty = grid_search.best_params_['penalty']\n",
    "best_l1_ratio = grid_search.best_params_['l1_ratio']\n",
    "\n",
    "print(\"Best alpha value:\", best_alpha)\n",
    "print(\"Best penalty value:\", best_penalty)\n",
    "print(\"Best l1_ratio value:\", best_l1_ratio)\n",
    "print(\"Accuracy score:\", grid_search.best_score_)"
   ]
  },
  {
   "cell_type": "code",
   "execution_count": null,
   "id": "0f1f8390",
   "metadata": {},
   "outputs": [],
   "source": [
    "clf.set_params(alpha=best_alpha)\n",
    "clf.set_params(penalty=best_penalty)\n",
    "clf.set_params(l1_ratio=best_l1_ratio)\n",
    "clf.fit(X_train, y_train)"
   ]
  },
  {
   "cell_type": "code",
   "execution_count": null,
   "id": "f8e4867e",
   "metadata": {},
   "outputs": [],
   "source": [
    "train_losses = []\n",
    "val_losses = []\n",
    "test_losses = []\n",
    "for i in range(10):\n",
    "    clf.partial_fit(X_train, y_train, classes=np.unique(y_train))\n",
    "    train_pred = clf.predict_proba(X_train)\n",
    "    train_loss = log_loss(y_train, train_pred, labels=clf.classes_)\n",
    "    val_pred = clf.predict_proba(X_val)\n",
    "    val_loss = log_loss(y_val, val_pred, labels=clf.classes_)\n",
    "    train_losses.append(train_loss)\n",
    "    val_losses.append(val_loss)\n",
    "\n",
    "train_accuracy = clf.score(X_train, y_train)\n",
    "val_accuracy = clf.score(X_val, y_val)\n",
    "test_accuracy = clf.score(X_test, y_test_label)\n",
    "\n",
    "print(\"Accuracy on training data: {:.3f}\".format(train_accuracy))\n",
    "print(\"Average training loss: {:.3f}\".format(np.mean(train_losses)))\n",
    "print(\"Accuracy on validation data: {:.3f}\".format(val_accuracy))\n",
    "print(\"Average validation loss: {:.3f}\".format(np.mean(val_losses)))\n",
    "print(\"Accuracy on testing data: {:.3f}\".format(test_accuracy))"
   ]
  },
  {
   "cell_type": "code",
   "execution_count": null,
   "id": "89dc94ec",
   "metadata": {},
   "outputs": [],
   "source": [
    "joblib.dump(clf, '../model/sgd_model.pkl')"
   ]
  },
  {
   "cell_type": "markdown",
   "id": "65901b42",
   "metadata": {},
   "source": [
    "# Avenger Ensemble"
   ]
  },
  {
   "cell_type": "code",
   "execution_count": 18,
   "id": "feb96f73",
   "metadata": {},
   "outputs": [],
   "source": [
    "model_1 = load_model('../model/cnn_model.h5')\n",
    "model_2 = joblib.load('../model/svc_model.pkl')\n",
    "model_3 = joblib.load('../model/knn_model.pkl')"
   ]
  },
  {
   "cell_type": "code",
   "execution_count": 19,
   "id": "895395ad",
   "metadata": {},
   "outputs": [],
   "source": [
    "models = [model_1, model_2, model_3]"
   ]
  },
  {
   "cell_type": "code",
   "execution_count": 20,
   "id": "a36048c2",
   "metadata": {},
   "outputs": [
    {
     "name": "stderr",
     "output_type": "stream",
     "text": [
      "2023-04-15 07:28:41.796362: I tensorflow/core/common_runtime/executor.cc:1197] [/device:CPU:0] (DEBUG INFO) Executor start aborting (this does not indicate an error and you can ignore this message): INVALID_ARGUMENT: You must feed a value for placeholder tensor 'Placeholder/_10' with dtype float and shape [717,1920]\n",
      "\t [[{{node Placeholder/_10}}]]\n",
      "2023-04-15 07:28:41.796654: I tensorflow/core/common_runtime/executor.cc:1197] [/device:CPU:0] (DEBUG INFO) Executor start aborting (this does not indicate an error and you can ignore this message): INVALID_ARGUMENT: You must feed a value for placeholder tensor 'Placeholder/_10' with dtype float and shape [717,1920]\n",
      "\t [[{{node Placeholder/_10}}]]\n"
     ]
    },
    {
     "name": "stdout",
     "output_type": "stream",
     "text": [
      "23/23 [==============================] - 1s 20ms/step\n"
     ]
    }
   ],
   "source": [
    "predictions = []\n",
    "for model in models:\n",
    "    pred = model.predict(X_test)\n",
    "    if len(pred.shape) == 1:  \n",
    "        pred_onehot = np.zeros((len(pred), 18))  \n",
    "        pred_onehot[np.arange(len(pred)), pred] = 1  \n",
    "        predictions.append(pred_onehot)\n",
    "    else:  \n",
    "        predictions.append(pred)\n",
    "\n",
    "predictions = np.array(predictions)\n",
    "summed = np.sum(predictions, axis=0)\n",
    "ensemble_prediction = np.argmax(summed, axis=1)"
   ]
  },
  {
   "cell_type": "code",
   "execution_count": 21,
   "id": "6b604173",
   "metadata": {},
   "outputs": [],
   "source": [
    "# get the predicted classes\n",
    "pred_classes1 = np.argmax(predictions[0], axis=1)\n",
    "pred_classes2 = np.argmax(predictions[1], axis=1)\n",
    "pred_classes3 = np.argmax(predictions[2], axis=1)"
   ]
  },
  {
   "cell_type": "markdown",
   "id": "74a0f75a",
   "metadata": {},
   "source": [
    "# Average ensemble"
   ]
  },
  {
   "cell_type": "code",
   "execution_count": 22,
   "id": "405a8647",
   "metadata": {},
   "outputs": [
    {
     "name": "stdout",
     "output_type": "stream",
     "text": [
      "Accuracy Score for model 1 =  0.9860529986052998\n",
      "Accuracy Score for model 2 =  0.9860529986052998\n",
      "Accuracy Score for model 3 =  0.9860529986052998\n",
      "Accuracy Score for average ensemble =  0.9860529986052998\n"
     ]
    }
   ],
   "source": [
    "accuracy1 = accuracy_score(y_test_label, pred_classes1)\n",
    "accuracy2 = accuracy_score(y_test_label, pred_classes2)\n",
    "accuracy3 = accuracy_score(y_test_label, pred_classes3)\n",
    "ensemble_accuracy = accuracy_score(y_test_label, ensemble_prediction)\n",
    "\n",
    "val_accuracies = [accuracy1, accuracy2, accuracy3]\n",
    "\n",
    "print('Accuracy Score for model 1 = ', accuracy1)\n",
    "print('Accuracy Score for model 2 = ', accuracy2)\n",
    "print('Accuracy Score for model 3 = ', accuracy3)\n",
    "print('Accuracy Score for average ensemble = ', ensemble_accuracy)"
   ]
  },
  {
   "cell_type": "markdown",
   "id": "16c2f1eb",
   "metadata": {},
   "source": [
    "# Weight Average Ensemble"
   ]
  },
  {
   "cell_type": "code",
   "execution_count": 23,
   "id": "5c6f73b9",
   "metadata": {},
   "outputs": [
    {
     "name": "stdout",
     "output_type": "stream",
     "text": [
      "Accuracy Score for model1 =  0.9860529986052998\n",
      "Accuracy Score for model2 =  0.9860529986052998\n",
      "Accuracy Score for model3 =  0.9860529986052998\n",
      "Accuracy Score for average ensemble =  0.9860529986052998\n",
      "Accuracy Score for weighted average ensemble =  0.9860529986052998\n"
     ]
    }
   ],
   "source": [
    "weights = [acc / sum(val_accuracies) for acc in val_accuracies]\n",
    "\n",
    "weighted_preds = np.tensordot(predictions, weights, axes=((0),(0)))\n",
    "weighted_ensemble_prediction = np.argmax(weighted_preds, axis=1)\n",
    "\n",
    "weighted_accuracy = accuracy_score(y_test_label, weighted_ensemble_prediction)\n",
    "\n",
    "print('Accuracy Score for model1 = ', accuracy1)\n",
    "print('Accuracy Score for model2 = ', accuracy2)\n",
    "print('Accuracy Score for model3 = ', accuracy3)\n",
    "print('Accuracy Score for average ensemble = ', ensemble_accuracy)\n",
    "print('Accuracy Score for weighted average ensemble = ', weighted_accuracy)"
   ]
  },
  {
   "cell_type": "markdown",
   "id": "4f685189",
   "metadata": {},
   "source": [
    "# Find Best Weight"
   ]
  },
  {
   "cell_type": "code",
   "execution_count": 24,
   "id": "c7263fa1",
   "metadata": {},
   "outputs": [
    {
     "name": "stdout",
     "output_type": "stream",
     "text": [
      "Max accuracy of  98.74476987447699  obtained with w1= 0.6  w2= 0.2  w3= 0.2\n"
     ]
    }
   ],
   "source": [
    "df = pd.DataFrame([])\n",
    "\n",
    "for w1 in range(1, 11):\n",
    "    for w2 in range(1, 11):\n",
    "        for w3 in range(1, 11):\n",
    "            # normalize weights to sum to 1\n",
    "            total_weight = w1 + w2 + w3\n",
    "            if total_weight == 0:\n",
    "                continue\n",
    "            wts = [w1/total_weight, w2/total_weight, w3/total_weight]\n",
    "\n",
    "            # get weighted predictions and calculate accuracy\n",
    "            wted_preds = np.tensordot(predictions, wts, axes=((0),(0)))\n",
    "            wted_ensemble_pred = np.argmax(wted_preds, axis=1)\n",
    "            weighted_accuracy = accuracy_score(y_test_label, wted_ensemble_pred)\n",
    "\n",
    "            # add results to dataframe\n",
    "            df = pd.concat([df, pd.DataFrame({'wt1': wts[0], 'wt2': wts[1], \n",
    "                                               'wt3': wts[2], \n",
    "                                               'acc': weighted_accuracy*100}, index=[0])],\n",
    "                                               ignore_index=True)\n",
    "            \n",
    "# find the row with the highest accuracy\n",
    "max_acc_row = df.iloc[df['acc'].idxmax()]\n",
    "\n",
    "# print the results\n",
    "print(\"Max accuracy of \", max_acc_row['acc'], \" obtained with w1=\", max_acc_row['wt1'],\n",
    "      \" w2=\", max_acc_row['wt2'], \" w3=\", max_acc_row['wt3'])"
   ]
  },
  {
   "cell_type": "code",
   "execution_count": 42,
   "id": "e60b6b7b",
   "metadata": {},
   "outputs": [
    {
     "name": "stdout",
     "output_type": "stream",
     "text": [
      "              precision    recall  f1-score   support\n",
      "\n",
      "           0       0.94      1.00      0.97        29\n",
      "           1       1.00      1.00      1.00        27\n",
      "           2       1.00      0.93      0.97        30\n",
      "           3       1.00      1.00      1.00         7\n",
      "           4       1.00      0.95      0.97        19\n",
      "           5       1.00      1.00      1.00         4\n",
      "           6       1.00      1.00      1.00        48\n",
      "           7       0.96      0.96      0.96        26\n",
      "           8       1.00      1.00      1.00        48\n",
      "           9       0.96      1.00      0.98       109\n",
      "          10       1.00      1.00      1.00        35\n",
      "          11       1.00      1.00      1.00        27\n",
      "          12       1.00      0.97      0.98        32\n",
      "          13       0.99      0.99      0.99       147\n",
      "          14       1.00      0.96      0.98        25\n",
      "          15       1.00      1.00      1.00        41\n",
      "          16       1.00      0.97      0.98        33\n",
      "          17       1.00      1.00      1.00        30\n",
      "\n",
      "    accuracy                           0.99       717\n",
      "   macro avg       0.99      0.98      0.99       717\n",
      "weighted avg       0.99      0.99      0.99       717\n",
      "\n"
     ]
    }
   ],
   "source": [
    "print(classification_report(y_test_label, ideal_weighted_ensemble_prediction))"
   ]
  },
  {
   "cell_type": "code",
   "execution_count": 51,
   "id": "3dc5e4da",
   "metadata": {},
   "outputs": [
    {
     "name": "stdout",
     "output_type": "stream",
     "text": [
      "Predicted Label:  whitespotted bambooshark\n",
      "True Label:  whitespotted bambooshark\n"
     ]
    },
    {
     "data": {
      "image/png": "[encoded data removed]",
      "text/plain": [
       "<Figure size 1200x1200 with 2 Axes>"
      ]
     },
     "metadata": {},
     "output_type": "display_data"
    },
    {
     "data": {
      "image/png": "[encoded data removed]",
      "text/plain": [
       "<Figure size 3000x1000 with 1 Axes>"
      ]
     },
     "metadata": {},
     "output_type": "display_data"
    }
   ],
   "source": [
    "best_weights = [0.6, 0.2, 0.2]\n",
    "\n",
    "ideal_weighted_preds = np.tensordot(predictions, best_weights, axes=((0),(0)))\n",
    "ideal_weighted_ensemble_prediction = np.argmax(ideal_weighted_preds, axis=1)\n",
    "ideal_weighted_accuracy = accuracy_score(y_test_label, ideal_weighted_ensemble_prediction)\n",
    "\n",
    "i = random.choice(ideal_weighted_ensemble_prediction)\n",
    "\n",
    "print(\"Predicted Label: \", class_labels[int(ideal_weighted_ensemble_prediction[i])])\n",
    "print(\"True Label: \", class_labels[int(y_test_label[i])])\n",
    "\n",
    "#Print confusion matrix\n",
    "cm = confusion_matrix(y_test_label, ideal_weighted_ensemble_prediction)\n",
    "\n",
    "fig, ax = plt.subplots(figsize=(12,12))\n",
    "sns.set(font_scale=1.6)\n",
    "sns.heatmap(cm, annot=True, linewidths=.5, ax=ax)\n",
    "\n",
    "\n",
    "# Calculate the fraction of incorrect predictions\n",
    "incorr_fraction = 1 - np.diag(cm) / np.sum(cm, axis=1)\n",
    "\n",
    "# Create a horizontal bar graph\n",
    "fig, ax = plt.subplots(figsize=(30,10))\n",
    "bars = ax.barh(np.arange(18), incorr_fraction, height=0.8)\n",
    "\n",
    "# Set the font size for the labels\n",
    "plt.rcParams.update({'font.size': 20})\n",
    "\n",
    "# Set the labels and axis limits\n",
    "ax.set_xlabel('Fraction of incorrect predictions')\n",
    "ax.set_ylabel('True Label')\n",
    "ax.set_yticks(np.arange(18))\n",
    "ax.set_yticklabels(class_labels)\n",
    "ax.set_xlim([0, 0.08])\n",
    "\n",
    "# Invert the y-axis to display the labels from top to bottom\n",
    "ax.invert_yaxis()\n",
    "\n",
    "# Save the figure\n",
    "plt.savefig('../bar2.png')"
   ]
  },
  {
   "cell_type": "markdown",
   "id": "e9111dfc",
   "metadata": {},
   "source": [
    "# For the BOT"
   ]
  },
  {
   "cell_type": "code",
   "execution_count": null,
   "id": "6befc1e1",
   "metadata": {},
   "outputs": [],
   "source": [
    "def extract_feature_no_bg(list_images):\n",
    "    data = []\n",
    "    labels = []\n",
    "\n",
    "    nb_features = 1920  \n",
    "    features = np.empty((len(list_images), nb_features))\n",
    "\n",
    "    for ind, img_path in enumerate(list_images):\n",
    "        print('Processing image %s...' % (img_path))\n",
    "        img = image.load_img(img_path, target_size=(299, 299))\n",
    "        output1 = remove(img)\n",
    "        output2 = output1.convert('RGB')\n",
    "        x = image.img_to_array(output2)\n",
    "        x = np.expand_dims(x, axis=0)\n",
    "        x = preprocess_input(x)\n",
    "        features[ind,:] = np.squeeze(extractor_model.predict(x))\n",
    "        labels.append(img_path.split('/')[-2])\n",
    "    \n",
    "    return features, labels"
   ]
  },
  {
   "cell_type": "code",
   "execution_count": null,
   "id": "61d99977",
   "metadata": {},
   "outputs": [],
   "source": [
    "def predict_ensemble(features):\n",
    "    preds_1 = model_1.predict(features)\n",
    "    sorted_preds1 = np.sort(preds_1)\n",
    "    top_preds1 = sorted_preds1[0][-1:-3:-1]\n",
    "    sorted_idx1 = np.argsort(preds_1)\n",
    "    top_label1 = sorted_idx1[0][-1:-4:-1]\n",
    "    \n",
    "    preds_2 = model_2.predict(features)\n",
    "    preds_prob_2 = model_2.predict_proba(features)\n",
    "    sorted_preds2 = np.sort(preds_prob_2)\n",
    "    top_preds2 = sorted_preds2[0][-1:-3:-1]\n",
    "    sorted_idx2 = np.argsort(preds_prob_2)\n",
    "    top_label2 = sorted_idx2[0][-1:-4:-1]\n",
    "\n",
    "    preds_3 = model_3.predict(features)\n",
    "    preds_prob_3 = model_3.predict_proba(features)\n",
    "    sorted_preds3 = np.sort(preds_prob_3)\n",
    "    top_preds3 = sorted_preds3[0][-1:-3:-1]\n",
    "    sorted_idx3 = np.argsort(preds_prob_3)\n",
    "    top_label3 = sorted_idx3[0][-1:-4:-1]\n",
    "\n",
    "    # Apply the best weight values to the predicted outputs of each model\n",
    "    weighted_preds_1 = preds_1 * best_weights[0]\n",
    "    weighted_preds_2 = preds_2 * best_weights[1]\n",
    "    weighted_preds_3 = preds_3 * best_weights[2]\n",
    "    \n",
    "    final_preds = np.argmax(weighted_preds_1 + weighted_preds_2 + weighted_preds_3, axis=1)\n",
    "    final_preds_label = encoder_labels.inverse_transform(final_preds)\n",
    "    \n",
    "    print('Top 3 class for Model 1:', top_label1)\n",
    "    print('Top 3 class for Model 2:', top_label2)\n",
    "    print('Top 3 class for Model 3:', top_label3)\n",
    "    \n",
    "    print(top_preds1)\n",
    "    print(top_preds2)\n",
    "    print(top_preds3)\n",
    "    \n",
    "    if top_preds1[0] - top_preds1[1] >= 0.5 or top_preds2[0] - top_preds2[1] >= 0.5 or top_preds3[0] - top_preds3[1] >= 0.5:\n",
    "        if top_preds1[0] - top_preds1[1] > 0.01 and top_preds2[0] - top_preds2[1] > 0.01 and top_preds3[0] - top_preds3[1] > 0.01:\n",
    "            print('This image is', final_preds_label[0])\n",
    "            return \"Y\", final_preds\n",
    "        else:\n",
    "            return \"N\", final_preds\n",
    "    else:\n",
    "        return \"N\", final_preds"
   ]
  },
  {
   "cell_type": "code",
   "execution_count": null,
   "id": "11ea00d7",
   "metadata": {},
   "outputs": [],
   "source": [
    "def final_answer(pred1, pred2):\n",
    "    if pred1 == pred2:\n",
    "        p1 = encoder_labels.inverse_transform(pred1)[0]\n",
    "        return p1\n",
    "    else:\n",
    "        p1 = encoder_labels.inverse_transform(pred1)[0]\n",
    "        p2 = encoder_labels.inverse_transform(pred2)[0]\n",
    "        return p1,p2"
   ]
  },
  {
   "cell_type": "code",
   "execution_count": null,
   "id": "3fa69515",
   "metadata": {
    "scrolled": true
   },
   "outputs": [],
   "source": [
    "image_path = ['../dataset/test.jpg']\n",
    "features, labels = extract_feature(image_path)\n",
    "img_pred_class1 = predict_ensemble(features)\n",
    "\n",
    "\n",
    "features2, labels2 = extract_feature_no_bg(image_path)\n",
    "img_pred_class2 = predict_ensemble(features2)\n",
    "\n",
    "print(encoder_labels.inverse_transform(img_pred_class1[1]))\n",
    "print(encoder_labels.inverse_transform(img_pred_class2[1]))\n",
    "\n",
    "if img_pred_class2[0] == \"N\" and img_pred_class1[0] == \"N\":\n",
    "    print(\"Can you use Diffrenet Images\")\n",
    "    \n",
    "elif img_pred_class2[0] == \"Y\" and img_pred_class1[0] == \"N\":\n",
    "    print(\"Can you use Diffrenet Images\")\n",
    "    \n",
    "else:\n",
    "    x = final_answer(img_pred_class1[1], img_pred_class2[1])\n",
    "    print(x)\n",
    "    exit()"
   ]
  },
  {
   "cell_type": "markdown",
   "id": "a25ae84d",
   "metadata": {},
   "source": [
    "## GRAVEYARD"
   ]
  },
  {
   "cell_type": "code",
   "execution_count": null,
   "id": "01969ac4",
   "metadata": {},
   "outputs": [],
   "source": [
    "# encoder_labels.inverse_transform([img_pred_class])"
   ]
  },
  {
   "cell_type": "code",
   "execution_count": 26,
   "id": "bfed6487",
   "metadata": {},
   "outputs": [
    {
     "name": "stdout",
     "output_type": "stream",
     "text": [
      "Model: \"sequential_7\"\n",
      "_________________________________________________________________\n",
      " Layer (type)                Output Shape              Param #   \n",
      "=================================================================\n",
      " conv1d (Conv1D)             (None, 1918, 64)          256       \n",
      "                                                                 \n",
      " max_pooling1d (MaxPooling1D  (None, 959, 64)          0         \n",
      " )                                                               \n",
      "                                                                 \n",
      " conv1d_1 (Conv1D)           (None, 957, 32)           6176      \n",
      "                                                                 \n",
      " max_pooling1d_1 (MaxPooling  (None, 478, 32)          0         \n",
      " 1D)                                                             \n",
      "                                                                 \n",
      " flatten (Flatten)           (None, 15296)             0         \n",
      "                                                                 \n",
      " dense_16 (Dense)            (None, 256)               3916032   \n",
      "                                                                 \n",
      " dense_17 (Dense)            (None, 18)                4626      \n",
      "                                                                 \n",
      "=================================================================\n",
      "Total params: 3,927,090\n",
      "Trainable params: 3,927,090\n",
      "Non-trainable params: 0\n",
      "_________________________________________________________________\n"
     ]
    }
   ],
   "source": [
    "model_1.summary()"
   ]
  },
  {
   "cell_type": "code",
   "execution_count": 27,
   "id": "630c4f48",
   "metadata": {},
   "outputs": [
    {
     "data": {
      "text/plain": [
       "{'C': 10,\n",
       " 'break_ties': False,\n",
       " 'cache_size': 200,\n",
       " 'class_weight': None,\n",
       " 'coef0': 0.0,\n",
       " 'decision_function_shape': 'ovr',\n",
       " 'degree': 3,\n",
       " 'gamma': 0.001,\n",
       " 'kernel': 'rbf',\n",
       " 'max_iter': -1,\n",
       " 'probability': True,\n",
       " 'random_state': None,\n",
       " 'shrinking': True,\n",
       " 'tol': 0.001,\n",
       " 'verbose': False}"
      ]
     },
     "execution_count": 27,
     "metadata": {},
     "output_type": "execute_result"
    }
   ],
   "source": [
    "model_2.get_params()"
   ]
  },
  {
   "cell_type": "code",
   "execution_count": 28,
   "id": "ebc27968",
   "metadata": {},
   "outputs": [
    {
     "data": {
      "text/plain": [
       "{'algorithm': 'auto',\n",
       " 'leaf_size': 30,\n",
       " 'metric': 'minkowski',\n",
       " 'metric_params': None,\n",
       " 'n_jobs': None,\n",
       " 'n_neighbors': 1,\n",
       " 'p': 2,\n",
       " 'weights': 'uniform'}"
      ]
     },
     "execution_count": 28,
     "metadata": {},
     "output_type": "execute_result"
    }
   ],
   "source": [
    "model_3.get_params()"
   ]
  },
  {
   "cell_type": "code",
   "execution_count": null,
   "id": "2cc9169c",
   "metadata": {},
   "outputs": [],
   "source": [
    "def predict_ensemble(features):\n",
    "    preds_1 = model_1.predict(features)\n",
    "    sorted_preds1 = np.sort(preds_1)\n",
    "    top_preds1 = sorted_preds1[0][-1:-3:-1]\n",
    "    sorted_idx1 = np.argsort(preds_1)\n",
    "    top_label1 = sorted_idx1[0][-1:-4:-1]\n",
    "\n",
    "    preds_2 = model_2.predict(features)\n",
    "    preds_prob_2 = model_2.predict_proba(features)\n",
    "    sorted_preds2 = np.sort(preds_prob_2)\n",
    "    top_preds2 = sorted_preds2[0][-1:-3:-1]\n",
    "    sorted_idx2 = np.argsort(preds_prob_2)\n",
    "    top_label2 = sorted_idx2[0][-1:-4:-1]\n",
    "\n",
    "    preds_3 = model_3.predict(features)\n",
    "    preds_prob_3 = model_3.predict_proba(features)\n",
    "    sorted_preds3 = np.sort(preds_prob_3)\n",
    "    top_preds3 = sorted_preds3[0][-1:-3:-1]\n",
    "    sorted_idx3 = np.argsort(preds_prob_3)\n",
    "    top_label3 = sorted_idx3[0][-1:-4:-1]\n",
    "\n",
    "    # Apply the best weight values to the predicted outputs of each model\n",
    "    weighted_preds_1 = preds_1 * best_weights[0]\n",
    "    weighted_preds_2 = preds_2 * best_weights[1]\n",
    "    weighted_preds_3 = preds_3 * best_weights[2]\n",
    "\n",
    "    final_preds = np.argmax(\n",
    "        weighted_preds_1 + weighted_preds_2 + weighted_preds_3, axis=1)\n",
    "    final_preds_label = encoder_labels.inverse_transform(final_preds)\n",
    "\n",
    "    print('Top 3 class for Model 1:', top_label1)\n",
    "    print('Top 3 class for Model 2:', top_label2)\n",
    "    print('Top 3 class for Model 3:', top_label3)\n",
    "    \n",
    "    return final_preds\n",
    "\n",
    "image_path = ['../dataset/pigeye.jpeg']\n",
    "features, labels = extract_feature(image_path)\n",
    "img_pred_class1 = predict_ensemble(features)\n",
    "\n",
    "features2, labels2 = extract_feature_no_bg(image_path)\n",
    "img_pred_class2 = predict_ensemble(features2)\n",
    "\n",
    "x = final_answer(img_pred_class1, img_pred_class2)"
   ]
  },
  {
   "cell_type": "code",
   "execution_count": 5,
   "id": "aa6a7a56",
   "metadata": {},
   "outputs": [
    {
     "name": "stdout",
     "output_type": "stream",
     "text": [
      "(3, 18)\n",
      "(3, 18)\n",
      "(3, 18)\n",
      "[0.52406965 0.69677936 0.40166522]\n",
      "[False False  True]\n"
     ]
    }
   ],
   "source": [
    "# import numpy as np\n",
    "\n",
    "# # example predictions from an ensemble of three models\n",
    "# predictions_1 = np.array([\n",
    "#     [3.2202927e-08, 1.5315185e-04, 1.7233757e-05, 7.1772654e-04, 1.4332510e-09,\n",
    "#      1.2757578e-08, 8.1395841e-01, 6.3586542e-10, 1.1227312e-03, 1.7537707e-06,\n",
    "#      1.6013291e-02, 5.4121660e-03, 3.5345099e-10, 1.4633089e-05, 4.4357598e-08,\n",
    "#      3.7397385e-05, 2.1669805e-02, 1.4088163e-01],  # high confidence in class 1\n",
    "#     [6.3199809e-06, 4.6315845e-03, 4.9378952e-05, 1.2022780e-03, 6.3356224e-06,\n",
    "#      3.8227426e-09, 1.5475784e-02, 2.6750687e-04, 1.2757650e-06, 8.6600101e-03,\n",
    "#      2.3523346e-06, 2.2466448e-03, 6.1496862e-06, 2.3313146e-04, 8.8369258e-02,\n",
    "#      1.5762758e-02, 1.5383508e-05, 8.6306381e-01],  # low confidence, ambiguous between classes 1 and 2\n",
    "#     [2.6639888e-14, 2.9453403e-01, 6.6856344e-08, 1.9082826e-08, 8.6846464e-14,\n",
    "#      3.1282932e-15, 5.5196031e-10, 3.5994033e-10, 1.0120440e-12, 5.6281590e-07,\n",
    "#      1.3845687e-06, 1.3462129e-06, 1.2783544e-10, 7.0477515e-01, 1.7041209e-06,\n",
    "#      1.5026670e-08, 6.6973835e-06, 6.7907828e-04]   # high confidence in class 3\n",
    "# ])\n",
    "\n",
    "# predictions_2 = np.array([[0.00472216, 0.04286923, 0.00635049, 0.01075456, 0.00671726, 0.00220195, 0.30418673, 0.01024336, 0.04376968, 0.01196055, 0.03956266, 0.02746085, 0.00484341, 0.01488163, 0.00262809, 0.00818419, 0.02733589, 0.43132733],\n",
    "#                           [0.02406468, 0.20427703, 0.01697068, 0.00700091, 0.01041615, 0.00294866, 0.05073226, 0.03046698, 0.00537757, 0.03641033, 0.01017061, 0.11029632, 0.01472612, 0.09311162, 0.11664034, 0.02498046, 0.01413503, 0.22727426],\n",
    "#                           [0.00551298, 0.24082214, 0.00884819, 0.00662463, 0.00352115, 0.00163321, 0.03072552, 0.00944128, 0.00600155, 0.02333548, 0.01483245, 0.02374047, 0.01580032, 0.50022051, 0.01344955, 0.00691327, 0.01799971, 0.07057761]])\n",
    "\n",
    "# predictions_3 = np.array([[0., 0., 0., 0., 0., 0., 0., 0., 0., 0., 0., 0., 0., 0., 0., 0., 0., 1.],\n",
    "#                           [0., 0., 0., 0., 0., 0., 0., 0., 0., 0., 0., 0., 0., 0., 0., 0., 0., 1.],\n",
    "#                           [0., 0., 0., 0., 0., 0., 0., 0., 0., 0., 0., 0., 0., 0., 0., 0., 0., 1.]])\n",
    "\n",
    "\n",
    "# print(predictions_1.shape)\n",
    "# print(predictions_2.shape)\n",
    "# print(predictions_3.shape)\n",
    "\n",
    "# # combine the predictions from the three models\n",
    "# ensemble_predictions = (predictions_1 + predictions_2 + predictions_3) / 3\n",
    "\n",
    "# # threshold for low confidence predictions\n",
    "# confidence_threshold = 0.5\n",
    "\n",
    "# # get the maximum confidence for each prediction\n",
    "# max_confidence = np.max(ensemble_predictions, axis=1)\n",
    "\n",
    "# # create a mask for low confidence predictions\n",
    "# low_confidence_mask = max_confidence < confidence_threshold\n",
    "\n",
    "# # # create a new array of predictions with low confidence predictions replaced by \"unknown\"\n",
    "# # new_predictions = np.copy(ensemble_predictions)\n",
    "# # new_predictions[low_confidence_mask] = [0] * 18  # set the scores for all classes to 0\n",
    "# # new_predictions[low_confidence_mask, -1] = 1    # set the score for \"unknown\" to 1\n",
    "\n",
    "# # # print the new predictions\n",
    "# # print(new_predictions)\n",
    "\n",
    "# print(max_confidence)\n",
    "# print(low_confidence_mask)\n"
   ]
  },
  {
   "cell_type": "code",
   "execution_count": null,
   "id": "e992ce33",
   "metadata": {},
   "outputs": [],
   "source": []
  }
 ],
 "metadata": {
  "kernelspec": {
   "display_name": "Python 3 (ipykernel)",
   "language": "python",
   "name": "python3"
  },
  "language_info": {
   "codemirror_mode": {
    "name": "ipython",
    "version": 3
   },
   "file_extension": ".py",
   "mimetype": "text/x-python",
   "name": "python",
   "nbconvert_exporter": "python",
   "pygments_lexer": "ipython3",
   "version": "3.9.16"
  }
 },
 "nbformat": 4,
 "nbformat_minor": 5
}
